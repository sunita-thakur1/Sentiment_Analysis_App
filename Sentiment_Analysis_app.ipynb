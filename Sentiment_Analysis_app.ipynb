{
  "nbformat": 4,
  "nbformat_minor": 0,
  "metadata": {
    "colab": {
      "provenance": []
    },
    "kernelspec": {
      "name": "python3",
      "display_name": "Python 3"
    },
    "language_info": {
      "name": "python"
    }
  },
  "cells": [
    {
      "cell_type": "code",
      "execution_count": 8,
      "metadata": {
        "colab": {
          "base_uri": "https://localhost:8080/"
        },
        "id": "njRs2jhVf5US",
        "outputId": "39f39a6c-54c3-4a6c-920f-c42c9dac5bea"
      },
      "outputs": [
        {
          "output_type": "stream",
          "name": "stderr",
          "text": [
            "[nltk_data] Downloading package vader_lexicon to /root/nltk_data...\n",
            "[nltk_data]   Package vader_lexicon is already up-to-date!\n"
          ]
        },
        {
          "output_type": "stream",
          "name": "stdout",
          "text": [
            "Requirement already satisfied: sentiment in /usr/local/lib/python3.10/dist-packages (0.0.1)\n"
          ]
        }
      ],
      "source": [
        "#!pip install streamlit\n",
        "import streamlit as st\n",
        "import nltk\n",
        "nltk.download('vader_lexicon')\n",
        "!pip install sentiment\n",
        "from nltk.sentiment.vader import SentimentIntensityAnalyzer\n",
        "#from vaderSentiment.vaderSentiment import SentimentIntensityAnalyzer\n"
      ]
    },
    {
      "cell_type": "markdown",
      "source": [
        "The **SentimentIntensityAnalyzer** class provides a method called polarity_scores() that takes a piece of text as input and returns a dictionary containing the sentiment scores for the text. The dictionary contains four keys: neg, neu, pos, and compound.                                               \n",
        "\n",
        "neg: the negative sentiment score (between 0 and 1)                              \n",
        "neu: the neutral sentiment score (between 0 and 1)                               \n",
        "pos: the positive sentiment score (between 0 and 1)                              \n",
        "compound: the overall sentiment score (between -1 and 1)                         \n",
        "Link: https://medium.com/@rslavanyageetha/vader-a-comprehensive-guide-to-sentiment-analysis-in-python"
      ],
      "metadata": {
        "id": "Kk5gCu6HE4Fa"
      }
    },
    {
      "cell_type": "code",
      "source": [
        "%%writefile app.py\n",
        "# Initialize VADER SentimentIntensityAnalyzer\n",
        "from nltk.sentiment.vader import SentimentIntensityAnalyzer      #import again otherwise throws error\n",
        "sia = SentimentIntensityAnalyzer()\n",
        "\n",
        "# Function to perform sentiment analysis using VADER\n",
        "def analyze_sentiment_vader(review):\n",
        "    sentiment_score = sia.polarity_scores(review)\n",
        "    if sentiment_score['compound'] >= 0.05:\n",
        "        return \"Positive\"\n",
        "    elif sentiment_score['compound'] <= -0.05:\n",
        "        return \"Negative\"\n",
        "    else:\n",
        "        return \"Neutral\"\n",
        "\n",
        "# Streamlit app\n",
        "import streamlit as st    #import again otherwise throws error\n",
        "st.title(\"Restaurant or Other Reviews Sentiment Analysis\")\n",
        "\n",
        "# Input: restaurant review from the user\n",
        "review = st.text_area(\"Enter the restaurant or other review here:\")\n",
        "\n",
        "# If the user submits a review\n",
        "if st.button(\"Analyze Sentiment\"):\n",
        "    if review:\n",
        "        sentiment = analyze_sentiment_vader(review)\n",
        "        st.write(f\"The sentiment of the review is: **{sentiment}**\")\n",
        "    else:\n",
        "        st.warning(\"Please enter a review to analyze.\")"
      ],
      "metadata": {
        "colab": {
          "base_uri": "https://localhost:8080/"
        },
        "id": "sMIX_ERUvPe0",
        "outputId": "5911ca87-eb0c-4f9e-df63-4d0113547647"
      },
      "execution_count": 10,
      "outputs": [
        {
          "output_type": "stream",
          "name": "stdout",
          "text": [
            "Overwriting app.py\n"
          ]
        }
      ]
    },
    {
      "cell_type": "code",
      "source": [
        "!streamlit run app.py & npx localtunnel --port 8501"
      ],
      "metadata": {
        "colab": {
          "base_uri": "https://localhost:8080/"
        },
        "id": "aB_0WhmEu3ap",
        "outputId": "3562f2af-6eaa-409b-c9f2-1ce464eb8833"
      },
      "execution_count": 11,
      "outputs": [
        {
          "output_type": "stream",
          "name": "stdout",
          "text": [
            "\n",
            "Collecting usage statistics. To deactivate, set browser.gatherUsageStats to false.\n",
            "\u001b[0m\n",
            "\u001b[1G\u001b[0K⠙\u001b[1G\u001b[0K⠹\u001b[1G\u001b[0K⠸\u001b[1G\u001b[0K⠼\u001b[1G\u001b[0K⠴\u001b[1G\u001b[0K⠦\u001b[1G\u001b[0K⠧\u001b[0m\n",
            "\u001b[34m\u001b[1m  You can now view your Streamlit app in your browser.\u001b[0m\n",
            "\u001b[0m\n",
            "\u001b[34m  Local URL: \u001b[0m\u001b[1mhttp://localhost:8501\u001b[0m\n",
            "\u001b[34m  Network URL: \u001b[0m\u001b[1mhttp://172.28.0.12:8501\u001b[0m\n",
            "\u001b[34m  External URL: \u001b[0m\u001b[1mhttp://34.125.53.1:8501\u001b[0m\n",
            "\u001b[0m\n",
            "\u001b[1G\u001b[0K⠇\u001b[1G\u001b[0K⠏\u001b[1G\u001b[0K⠋\u001b[1G\u001b[0K⠙\u001b[1G\u001b[0K⠹\u001b[1G\u001b[0Kyour url is: https://witty-hoops-burn.loca.lt\n",
            "\u001b[34m  Stopping...\u001b[0m\n",
            "^C\n"
          ]
        }
      ]
    },
    {
      "cell_type": "markdown",
      "source": [
        "Steps to run the app:\n",
        "1. Click: your url is: https://evil-showers-remain.loca.lt\n",
        "2. Enter Tunnel Address as 35.237.49.77 from the output External URL.            \n",
        "External URL: http://35.237.49.77:8501\n",
        "\n",
        "To run the above app they ask you to submit or enter Tunnel Address or ipv4 or ipv6 address which is                                                  \n",
        "35.237.49.77                                                                     \n",
        "from the External URL link shown in the above output :External URL:\n",
        " http://35.237.49.77:8501/\n",
        "\n",
        " If it changes then update the Tunnel address accordingly."
      ],
      "metadata": {
        "id": "SmjDOeIxANm8"
      }
    }
  ]
}